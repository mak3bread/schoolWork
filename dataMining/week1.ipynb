{
 "cells": [
  {
   "cell_type": "markdown",
   "metadata": {},
   "source": [
    "## 1.1 Elementary Data Types"
   ]
  },
  {
   "cell_type": "code",
   "execution_count": 2,
   "metadata": {},
   "outputs": [
    {
     "name": "stdout",
     "output_type": "stream",
     "text": [
      "4 <class 'int'>\n",
      "True <class 'bool'>\n",
      "3.7 <class 'float'>\n",
      "This is a string <class 'str'>\n"
     ]
    }
   ],
   "source": [
    "x=4                    # integer\n",
    "print (x, type(x))\n",
    "\n",
    "y= True             # boolean(True, False)\n",
    "print(y, type(y))\n",
    "\n",
    "z=3.7                 # floating point\n",
    "print(z, type(z))\n",
    "\n",
    "s=\"This is a string\"  # string\n",
    "print(s,type(s))"
   ]
  },
  {
   "cell_type": "code",
   "execution_count": 4,
   "metadata": {},
   "outputs": [
    {
     "name": "stdout",
     "output_type": "stream",
     "text": [
      "18 8 12 6 18 2\n",
      "3.7 1.7000000000000002 1.2333333333333334 1.0 13.690000000000001\n",
      "3.7 13.690000000000001 4 3\n"
     ]
    }
   ],
   "source": [
    "x = 4                  #  integer\n",
    "x1 = x + 4           # addition\n",
    "x2 = x * 3          # multiplication\n",
    "x += 2               # equivalent to x = x + 2\n",
    "x3 = x\n",
    "x *= 3                # equivalent to x = x * 3\n",
    "x4 = x\n",
    "x5 = x % 4        # modulo (remainder) operator\n",
    "\n",
    "z = 3.7              # floating point number\n",
    "z1 = z - 2          # subtraction\n",
    "z2 = z / 3         # division\n",
    "z3 = z // 3        # integer division\n",
    "z4 = z ** 2       # square of z\n",
    "z5 = z4 ** 0.5  #  square root\n",
    "z6 = pow(z,2)  # equivalent to square of z\n",
    "z7 = round(z)   # rounding z to its nearest integer\n",
    "z8 = int(z)        # type casting float to int\n",
    "\n",
    "print(x,x1,x2,x3,x4,x5)\n",
    "print(z,z1,z2,z3,z4)\n",
    "print(z5,z6,z7,z8)"
   ]
  },
  {
   "cell_type": "code",
   "execution_count": 6,
   "metadata": {},
   "outputs": [
    {
     "name": "stdout",
     "output_type": "stream",
     "text": [
      "2.0\n",
      "16.0\n",
      "54.598150033144236\n",
      "2.0\n",
      "4.0\n",
      "24\n",
      "1\n",
      "0\n",
      "0\n",
      "3.6739403974420594e-16\n",
      "0.9999999869751758\n",
      "True\n",
      "True\n"
     ]
    }
   ],
   "source": [
    "import math\n",
    "\n",
    "x=4\n",
    "print(math.sqrt(x))             \n",
    "print(math.pow(x,2))\n",
    "print(math.exp(x))\n",
    "print(math.log(x,2))\n",
    "print(math.fabs(-4))\n",
    "print(math.factorial(x))\n",
    "\n",
    "z=0.2\n",
    "print(math.ceil(z))\n",
    "print(math.floor(z))\n",
    "print(math.trunc(z))\n",
    "\n",
    "z= 3*math.pi\n",
    "print(math.sin(z))\n",
    "print(math.tanh(z))\n",
    "\n",
    "x = math.nan\n",
    "print(math.isnan(x))\n",
    "\n",
    "x=math.inf\n",
    "print(math.isinf(x))"
   ]
  },
  {
   "cell_type": "code",
   "execution_count": 7,
   "metadata": {},
   "outputs": [
    {
     "name": "stdout",
     "output_type": "stream",
     "text": [
      "False\n",
      "True\n",
      "True\n"
     ]
    }
   ],
   "source": [
    "y1=True\n",
    "y2=False\n",
    "\n",
    "print(y1 and y2)\n",
    "print(y1 or y2)\n",
    "print(y1 and not y2)"
   ]
  },
  {
   "cell_type": "code",
   "execution_count": 9,
   "metadata": {},
   "outputs": [
    {
     "name": "stdout",
     "output_type": "stream",
     "text": [
      "his\n",
      "4\n",
      "Length of string is 4\n",
      "THIS\n",
      "this\n",
      "\n",
      "This\n",
      "This is another string\n",
      "That at a string\n",
      "8\n",
      "True\n",
      "\n",
      "True\n",
      "False\n",
      "This is a string too\n",
      "This This This \n"
     ]
    }
   ],
   "source": [
    "s1 = \"This\"\n",
    "\n",
    "print(s1[1:])\n",
    "print(len(s1))\n",
    "print(\"Length of string is \"+str(len(s1)))\n",
    "print(s1.upper())\n",
    "print(s1.lower())\n",
    "print()\n",
    "s2 = \"This is a string\"\n",
    "words = s2.split(' ')\n",
    "print(words[0])\n",
    "print(s2.replace('a','another'))\n",
    "print(s2.replace('is','at'))\n",
    "print(s2.find(\"a\"))\n",
    "print(s1 in s2)\n",
    "print()\n",
    "print(s1=='This')\n",
    "print(s1<'That')\n",
    "print(s2+\" too\")\n",
    "print((s1+\" \")*3)"
   ]
  },
  {
   "cell_type": "markdown",
   "metadata": {},
   "source": [
    "## 1.2 Compound Data Types"
   ]
  },
  {
   "cell_type": "code",
   "execution_count": 10,
   "metadata": {},
   "outputs": [
    {
     "name": "stdout",
     "output_type": "stream",
     "text": [
      "<class 'list'>\n",
      "[1, 3, 5, 7, 9]\n",
      "[0, 2, 4, 6, 8]\n",
      "5\n",
      "[1, 3]\n",
      "[5, 7, 9]\n",
      "5\n",
      "25\n",
      "[1, 3, 5, 7, 9, 11]\n",
      "11\n",
      "[1, 3, 5, 7, 9]\n",
      "[1, 3, 5, 7, 9, 11, 13, 15]\n",
      "[1, 3, 5, 7, 9, 1, 3, 5, 7, 9, 1, 3, 5, 7, 9]\n",
      "[1, 3, 4, 5, 7, 9]\n",
      "[9, 7, 5, 4, 3, 1]\n"
     ]
    }
   ],
   "source": [
    "intlist=[1,3,5,7,9]\n",
    "print(type(intlist))\n",
    "print(intlist)\n",
    "intlist2= list(range(0,10,2))\n",
    "print(intlist2)\n",
    "\n",
    "print(intlist[2])\n",
    "print(intlist[:2])\n",
    "print(intlist[2:])\n",
    "print(len(intlist))\n",
    "print(sum(intlist))\n",
    "\n",
    "intlist.append(11)\n",
    "print(intlist)\n",
    "print(intlist.pop())\n",
    "print(intlist)\n",
    "print(intlist + [11,13,15])\n",
    "print(intlist * 3)\n",
    "intlist.insert(2,4)\n",
    "print(intlist)\n",
    "intlist.sort(reverse=True)\n",
    "print(intlist)"
   ]
  },
  {
   "cell_type": "code",
   "execution_count": 11,
   "metadata": {},
   "outputs": [
    {
     "name": "stdout",
     "output_type": "stream",
     "text": [
      "['this', 'is', 'a', 'list']\n",
      "<class 'list'>\n",
      "True\n",
      "a\n",
      "['this', 'is']\n",
      "['a', 'list']\n",
      "this is a list too\n",
      "['this', 'a', 'list', 'too']\n"
     ]
    }
   ],
   "source": [
    "mylist = ['this','is','a','list']\n",
    "print(mylist)\n",
    "print(type(mylist))\n",
    "\n",
    "print(\"list\" in mylist)\n",
    "print(mylist[2])\n",
    "print(mylist[:2])\n",
    "print(mylist[2:])\n",
    "mylist.append(\"too\")\n",
    "\n",
    "separator=\" \"\n",
    "print(separator.join(mylist))\n",
    "\n",
    "mylist.remove(\"is\")\n",
    "print(mylist)"
   ]
  },
  {
   "cell_type": "code",
   "execution_count": 12,
   "metadata": {},
   "outputs": [
    {
     "name": "stdout",
     "output_type": "stream",
     "text": [
      "{'MI': 'Michigan', 'MN': 'Minnesota', 'TX': 'Texas', 'CA': 'California'}\n",
      "dict_keys(['MI', 'MN', 'TX', 'CA'])\n",
      "dict_values(['Michigan', 'Minnesota', 'Texas', 'California'])\n",
      "4\n",
      "Michigan\n",
      "False\n",
      "True\n",
      "{'apples': 3, 'oranges': 4, 'bananas': 2, 'cherries': 10}\n",
      "['apples', 'bananas', 'cherries', 'oranges']\n",
      "[('apples', 3), ('bananas', 2), ('cherries', 10), ('oranges', 4)]\n",
      "[('bananas', 2), ('apples', 3), ('oranges', 4), ('cherries', 10)]\n"
     ]
    }
   ],
   "source": [
    "abbrev={}\n",
    "abbrev['MI']=\"Michigan\"\n",
    "abbrev['MN']=\"Minnesota\"\n",
    "abbrev['TX']=\"Texas\"\n",
    "abbrev['CA']=\"California\"\n",
    "\n",
    "print(abbrev)\n",
    "print(abbrev.keys())\n",
    "print(abbrev.values())\n",
    "print(len(abbrev))\n",
    "\n",
    "print(abbrev.get('MI'))\n",
    "print(\"FL\" in abbrev)\n",
    "print(\"CA\" in abbrev)\n",
    "\n",
    "keys = ['apples', 'oranges','bananas','cherries']\n",
    "values=[3,4,2,10]\n",
    "fruits=dict(zip(keys,values))\n",
    "print(fruits)\n",
    "print(sorted(fruits))\n",
    "\n",
    "from operator import itemgetter\n",
    "print(sorted(fruits.items(),key=itemgetter(0)))\n",
    "print(sorted(fruits.items(),key=itemgetter(1)))"
   ]
  },
  {
   "cell_type": "code",
   "execution_count": 15,
   "metadata": {},
   "outputs": [
    {
     "name": "stdout",
     "output_type": "stream",
     "text": [
      "('MI', 'Michigan', 'Lansing')\n",
      "('Michigan', 'Lansing')\n",
      "[('MI', 'Michigan', 'Lansing'), ('CA', 'California', 'Sacramento'), ('TX', 'Texas', 'Austin')]\n",
      "('TX', 'Texas', 'Austin')\n",
      "('TX', 'Texas', 'Austin')\n",
      "('Texas', 'Austin')\n",
      "[('TX', 'Texas', 'Austin'), ('MI', 'Michigan', 'Lansing'), ('CA', 'California', 'Sacramento')]\n"
     ]
    }
   ],
   "source": [
    "Mltuple=('MI', 'Michigan', 'Lansing')\n",
    "CAtuple=('CA','California','Sacramento')\n",
    "TXtuple=('TX','Texas','Austin')\n",
    "\n",
    "print(Mltuple)\n",
    "print(Mltuple[1:])\n",
    "\n",
    "states=[Mltuple,CAtuple,TXtuple]\n",
    "print(states)\n",
    "print(states[2])\n",
    "print(states[2][:])\n",
    "print(states[2][1:])\n",
    "\n",
    "states.sort(key=lambda state: state[2])\n",
    "print(states)"
   ]
  },
  {
   "cell_type": "markdown",
   "metadata": {},
   "source": [
    "## 1.3 Control Flow Statements"
   ]
  },
  {
   "cell_type": "code",
   "execution_count": 1,
   "metadata": {},
   "outputs": [
    {
     "name": "stdout",
     "output_type": "stream",
     "text": [
      "x =  10 is even\n",
      "x =  10 is positive\n"
     ]
    }
   ],
   "source": [
    "x =10\n",
    "\n",
    "if x% 2==0 :\n",
    "    print(\"x = \",x,\"is even\")\n",
    "else:\n",
    "    print(\"x = \",x,\"is odd\")\n",
    "\n",
    "if x > 0 :\n",
    "    print(\"x = \",x,\"is positive\")\n",
    "elif x < 0:\n",
    "    print(\"x = \",x,\"is negative\")\n",
    "else:\n",
    "    print(\"x = \",x,\"is neither positive nor negative\")"
   ]
  },
  {
   "cell_type": "code",
   "execution_count": 3,
   "metadata": {},
   "outputs": [
    {
     "name": "stdout",
     "output_type": "stream",
     "text": [
      "that\n",
      "at\n",
      "a\n",
      "latt\n",
      "[4, 2, 1, 4]\n",
      "[('TX', 'Texas', 'Austin'), ('TX', 'Texas', 'Austin'), ('TX', 'Texas', 'Austin')]\n",
      "['apples', 'oranges', 'bananas', 'cherries']\n"
     ]
    }
   ],
   "source": [
    "mylist = ['this', 'is','a','list']\n",
    "for word in mylist:\n",
    "    print(word.replace(\"is\",\"at\"))\n",
    "    \n",
    "mylist2 = [len(word) for word in mylist]\n",
    "print(mylist2)\n",
    "\n",
    "states = [('Ml' , 'Michigan' , 'Lansing'),('CA','California','Sacramento'),('TX','Texas','Austin')]\n",
    "\n",
    "sorted_capitals=[states[2] for state in states]\n",
    "sorted_capitals.sort()\n",
    "print(sorted_capitals)\n",
    "\n",
    "fruits ={'apples':3, 'oranges':4, 'bananas':2,'cherries':10}\n",
    "fruitnames =[k for (k,v) in fruits.items()]\n",
    "print(fruitnames)"
   ]
  },
  {
   "cell_type": "code",
   "execution_count": 4,
   "metadata": {},
   "outputs": [
    {
     "name": "stdout",
     "output_type": "stream",
     "text": [
      "[-10, -9, -8, -7, -6, -5, -4, -3, -2, -1, 0, 1, 2, 3, 4, 5, 6, 7, 8, 9]\n",
      "First non-negative number :  0\n"
     ]
    }
   ],
   "source": [
    "mylist = list(range(-10,10))\n",
    "print(mylist)\n",
    "\n",
    "i=0\n",
    "while(mylist[i]<0):\n",
    "    i=i+1\n",
    "    \n",
    "print(\"First non-negative number : \", mylist[i])"
   ]
  },
  {
   "cell_type": "markdown",
   "metadata": {},
   "source": [
    "## 1.4 User-Defined Functions"
   ]
  },
  {
   "cell_type": "code",
   "execution_count": 5,
   "metadata": {},
   "outputs": [
    {
     "name": "stdout",
     "output_type": "stream",
     "text": [
      "11\n"
     ]
    }
   ],
   "source": [
    "myfunc =lambda x: 3*x**2 -2*x +3\n",
    "print(myfunc(2))"
   ]
  },
  {
   "cell_type": "code",
   "execution_count": 7,
   "metadata": {},
   "outputs": [
    {
     "name": "stdout",
     "output_type": "stream",
     "text": [
      "[-11, 12, 23, 45, 71]\n"
     ]
    }
   ],
   "source": [
    "import math\n",
    "\n",
    "def discard(inlist, sortFlag=False):\n",
    "    outlist=[]\n",
    "    for item in inlist:\n",
    "        if not math.isnan(item):\n",
    "            outlist.append(item)\n",
    "            \n",
    "    if sortFlag :\n",
    "        outlist.sort()\n",
    "    return outlist\n",
    "    \n",
    "mylist=[12,math.nan,23,-11,45,math.nan,71]\n",
    "print(discard(mylist,True))"
   ]
  },
  {
   "cell_type": "markdown",
   "metadata": {},
   "source": [
    "## 1.5 File I/O"
   ]
  },
  {
   "cell_type": "code",
   "execution_count": 8,
   "metadata": {},
   "outputs": [
    {
     "name": "stdout",
     "output_type": "stream",
     "text": [
      "State=  Michigan ( Ml ) Capital:   Lansing\n",
      "\n",
      "State=  California ( CA ) Capital:   Sacramento\n",
      "\n",
      "State=  Texas ( TX ) Capital:   Austin\n",
      "\n",
      "State=  Minnesota ( MN ) Capital:   St Paul\n"
     ]
    }
   ],
   "source": [
    "states = [('Ml','Michigan','Lansing'),('CA','California','Sacramento'),\n",
    "          ('TX', 'Texas', 'Austin'),('MN', 'Minnesota' , 'St Paul')]\n",
    "\n",
    "with open('states.txt','w') as f :\n",
    "    f.write('\\n'.join('%s, %s, %s' % state for state in states))\n",
    "\n",
    "with open('states.txt', 'r') as f:\n",
    "    for line in f:\n",
    "        fields = line.split(sep=',')\n",
    "        print('State=',fields[1],'(', fields[0], ')','Capital: ',fields[2])"
   ]
  },
  {
   "cell_type": "code",
   "execution_count": null,
   "metadata": {},
   "outputs": [],
   "source": []
  }
 ],
 "metadata": {
  "kernelspec": {
   "display_name": "Python 3",
   "language": "python",
   "name": "python3"
  },
  "language_info": {
   "codemirror_mode": {
    "name": "ipython",
    "version": 3
   },
   "file_extension": ".py",
   "mimetype": "text/x-python",
   "name": "python",
   "nbconvert_exporter": "python",
   "pygments_lexer": "ipython3",
   "version": "3.7.4"
  }
 },
 "nbformat": 4,
 "nbformat_minor": 2
}
