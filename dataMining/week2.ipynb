{
 "cells": [
  {
   "cell_type": "markdown",
   "metadata": {},
   "source": [
    "# 2: Introduction to Numpy and Pandas\n",
    "\n",
    "## 2.1 Introduction to Numpy\n",
    "\n",
    "### 2.1.1 Creating ndarray"
   ]
  },
  {
   "cell_type": "code",
   "execution_count": 4,
   "metadata": {},
   "outputs": [
    {
     "name": "stdout",
     "output_type": "stream",
     "text": [
      "[1. 2. 3. 4. 5.]\n",
      "#Dimensions =  1\n",
      "Dimension =  (5,)\n",
      "Size =  5\n",
      "Array type =  float64\n",
      "\n",
      "[[1 2]\n",
      " [3 4]\n",
      " [5 6]\n",
      " [7 8]]\n",
      "#Dimensions =  2\n",
      "Dimensions =  (4, 2)\n",
      "Size =  8\n",
      "Array type =  int64\n",
      "\n",
      "[['1' 'a' '3.0']\n",
      " ['2' 'b' '3.5']]\n",
      "#Dimensions =  2\n",
      "Dimensions =  (2, 3)\n",
      "Size =  6\n"
     ]
    }
   ],
   "source": [
    "import numpy as np\n",
    "\n",
    "oneDim=np.array([1.0,2,3,4,5])\n",
    "print(oneDim)\n",
    "print(\"#Dimensions = \",oneDim.ndim)\n",
    "print(\"Dimension = \", oneDim.shape)\n",
    "print(\"Size = \",oneDim.size)\n",
    "print(\"Array type = \",oneDim.dtype)\n",
    "\n",
    "print()\n",
    "\n",
    "twoDim=np.array([[1,2],[3,4],[5,6],[7,8]])\n",
    "print(twoDim)\n",
    "print(\"#Dimensions = \",twoDim.ndim)\n",
    "print(\"Dimensions = \",twoDim.shape)\n",
    "print(\"Size = \",twoDim.size)\n",
    "print(\"Array type = \",twoDim.dtype)\n",
    "\n",
    "print()\n",
    "\n",
    "arrFromTuple=np.array([(1,'a',3.0),(2,'b',3.5)])\n",
    "print(arrFromTuple)\n",
    "print(\"#Dimensions = \", arrFromTuple.ndim)\n",
    "print(\"Dimensions = \",arrFromTuple.shape)\n",
    "print(\"Size = \",arrFromTuple.size)"
   ]
  },
  {
   "cell_type": "code",
   "execution_count": 6,
   "metadata": {},
   "outputs": [
    {
     "name": "stdout",
     "output_type": "stream",
     "text": [
      "[0.72306224 0.64128687 0.52904325 0.09352503 0.26622554]\n",
      "[ 0.10234151  0.19868769 -1.06553857 -1.74568779  1.20707282]\n",
      "[-10  -8  -6  -4  -2   0   2   4   6   8]\n",
      "[[ 0  1  2  3]\n",
      " [ 4  5  6  7]\n",
      " [ 8  9 10 11]]\n",
      "[0.         0.11111111 0.22222222 0.33333333 0.44444444 0.55555556\n",
      " 0.66666667 0.77777778 0.88888889 1.        ]\n",
      "[1.e-03 1.e-02 1.e-01 1.e+00 1.e+01 1.e+02 1.e+03]\n"
     ]
    }
   ],
   "source": [
    "print(np.random.rand(5))\n",
    "print(np.random.randn(5))\n",
    "print(np.arange(-10,10,2))\n",
    "print(np.arange(12).reshape(3,4))\n",
    "print(np.linspace(0,1,10))\n",
    "print(np.logspace(-3,3,7))"
   ]
  },
  {
   "cell_type": "code",
   "execution_count": 9,
   "metadata": {},
   "outputs": [
    {
     "name": "stdout",
     "output_type": "stream",
     "text": [
      "[[0. 0. 0.]\n",
      " [0. 0. 0.]]\n",
      "[[1. 1.]\n",
      " [1. 1.]\n",
      " [1. 1.]]\n",
      "[[1. 0. 0.]\n",
      " [0. 1. 0.]\n",
      " [0. 0. 1.]]\n"
     ]
    }
   ],
   "source": [
    "print(np.zeros((2,3)))\n",
    "print(np.ones((3,2)))\n",
    "print(np.eye(3))"
   ]
  },
  {
   "cell_type": "markdown",
   "metadata": {},
   "source": [
    "### 2.1.2 Element-wise Operations"
   ]
  },
  {
   "cell_type": "code",
   "execution_count": 10,
   "metadata": {},
   "outputs": [
    {
     "name": "stdout",
     "output_type": "stream",
     "text": [
      "[2 3 4 5 6]\n",
      "[0 1 2 3 4]\n",
      "[ 2  4  6  8 10]\n",
      "[0 1 1 2 2]\n",
      "[ 1  4  9 16 25]\n",
      "[1 0 1 0 1]\n",
      "[1.         0.5        0.33333333 0.25       0.2       ]\n"
     ]
    }
   ],
   "source": [
    "x = np.array([1,2,3,4,5])\n",
    "\n",
    "print(x+1)\n",
    "print(x-1)\n",
    "print(x*2)\n",
    "print(x//2)\n",
    "print(x**2)\n",
    "print(x%2)\n",
    "print(1/x)"
   ]
  },
  {
   "cell_type": "code",
   "execution_count": 11,
   "metadata": {},
   "outputs": [
    {
     "name": "stdout",
     "output_type": "stream",
     "text": [
      "[ 3  6  9 12 15]\n",
      "[1 2 3 4 5]\n",
      "[ 2  8 18 32 50]\n",
      "[2. 2. 2. 2. 2.]\n",
      "[2 2 2 2 2]\n",
      "[     2     16    216   4096 100000]\n"
     ]
    }
   ],
   "source": [
    "x = np.array([2,4,6,8,10])\n",
    "y = np.array([1,2,3,4,5])\n",
    "\n",
    "print(x+y)\n",
    "print(x-y)\n",
    "print(x*y)\n",
    "print(x/y)\n",
    "print(x//y)\n",
    "print(x**y)"
   ]
  },
  {
   "cell_type": "markdown",
   "metadata": {},
   "source": [
    "### 2.1.3 Indexing and Slicing"
   ]
  },
  {
   "cell_type": "code",
   "execution_count": 13,
   "metadata": {},
   "outputs": [
    {
     "name": "stdout",
     "output_type": "stream",
     "text": [
      "[-5 -4 -3 -2 -1  0  1  2  3  4]\n",
      "[-2 -1]\n",
      "[1000 1000]\n",
      "[  -5   -4   -3 1000 1000    0    1    2    3    4]\n",
      "[1000 1000]\n",
      "[500 500]\n",
      "[  -5   -4   -3 1000 1000    0    1    2    3    4]\n"
     ]
    }
   ],
   "source": [
    "x = np.arange(-5,5)\n",
    "print(x)\n",
    "\n",
    "y = x[3:5]\n",
    "print(y)\n",
    "y[:] = 1000\n",
    "print(y)\n",
    "print(x)\n",
    "\n",
    "z=x[3:5].copy()\n",
    "print(z)\n",
    "z[:] = 500\n",
    "print(z)\n",
    "print(x)"
   ]
  },
  {
   "cell_type": "code",
   "execution_count": 16,
   "metadata": {},
   "outputs": [
    {
     "name": "stdout",
     "output_type": "stream",
     "text": [
      "[[1, 2, 3, 4], [5, 6, 7, 8], [9, 10, 11, 12]]\n",
      "[9, 10, 11, 12]\n",
      "[9, 10, 11, 12]\n",
      "\n",
      "[[ 1  2  3  4]\n",
      " [ 5  6  7  8]\n",
      " [ 9 10 11 12]]\n",
      "[ 9 10 11 12]\n",
      "[ 9 10 11 12]\n",
      "[ 3  7 11]\n",
      "[[3 4]\n",
      " [7 8]]\n"
     ]
    }
   ],
   "source": [
    "my2dlist = [[1,2,3,4],[5,6,7,8],[9,10,11,12]]\n",
    "print(my2dlist)\n",
    "print(my2dlist[2])\n",
    "print(my2dlist[:][2])\n",
    "\n",
    "print()\n",
    "\n",
    "my2darr = np.array(my2dlist)\n",
    "print(my2darr)\n",
    "print(my2darr[2][:])\n",
    "print(my2darr[2,:])\n",
    "print(my2darr[: ,2])\n",
    "print(my2darr[:2,2:])"
   ]
  },
  {
   "cell_type": "code",
   "execution_count": 23,
   "metadata": {},
   "outputs": [
    {
     "name": "stdout",
     "output_type": "stream",
     "text": [
      "[[ 1  2  3  4]\n",
      " [ 5  6  7  8]\n",
      " [ 9 10 11 12]]\n",
      "[ 3  6  9 12] <class 'numpy.ndarray'>\n",
      "[[ 9 12]]\n"
     ]
    }
   ],
   "source": [
    "my2darr = np.arange(1,13,1).reshape(3,4)\n",
    "print(my2darr)\n",
    "\n",
    "divBy3 = my2darr[my2darr % 3 == 0]\n",
    "print(divBy3,type(divBy3))\n",
    "\n",
    "divBy3LastRow = my2darr[2:, my2darr[2,:] % 3 == 0]\n",
    "print(divBy3LastRow)"
   ]
  },
  {
   "cell_type": "code",
   "execution_count": 24,
   "metadata": {},
   "outputs": [
    {
     "name": "stdout",
     "output_type": "stream",
     "text": [
      "[[ 1  2  3]\n",
      " [ 4  5  6]\n",
      " [ 7  8  9]\n",
      " [10 11 12]]\n",
      "[[ 7  8  9]\n",
      " [ 4  5  6]\n",
      " [ 1  2  3]\n",
      " [10 11 12]]\n",
      "[ 1  3  4  8 12]\n"
     ]
    }
   ],
   "source": [
    "my2darr = np.arange(1,13,1).reshape(4,3)\n",
    "print(my2darr)\n",
    "\n",
    "indices=[2,1,0,3]\n",
    "print(my2darr[indices, :])\n",
    "\n",
    "rowIndex=[0,0,1,2,3]\n",
    "columnIndex=[0,2,0,1,2]\n",
    "print(my2darr[rowIndex,columnIndex])"
   ]
  },
  {
   "cell_type": "markdown",
   "metadata": {},
   "source": [
    "### 2.1.4 Numpy Arithmetic and Statistical Functions"
   ]
  },
  {
   "cell_type": "code",
   "execution_count": 25,
   "metadata": {},
   "outputs": [
    {
     "name": "stdout",
     "output_type": "stream",
     "text": [
      "[-1.4  0.4 -3.2  2.5  3.4]\n",
      "[1.4 0.4 3.2 2.5 3.4]\n",
      "[1.18321596 0.63245553 1.78885438 1.58113883 1.84390889]\n",
      "[-1.  1. -1.  1.  1.]\n",
      "[ 0.24659696  1.4918247   0.0407622  12.18249396 29.96410005]\n",
      "[-3.2 -1.4  0.4  2.5  3.4]\n"
     ]
    }
   ],
   "source": [
    "y = np.array([-1.4, 0.4, -3.2, 2.5, 3.4])\n",
    "print(y)\n",
    "\n",
    "print(np.abs(y))\n",
    "print(np.sqrt(abs(y)))\n",
    "print(np.sign(y))\n",
    "print(np.exp(y))\n",
    "print(np.sort(y))"
   ]
  },
  {
   "cell_type": "code",
   "execution_count": 26,
   "metadata": {},
   "outputs": [
    {
     "name": "stdout",
     "output_type": "stream",
     "text": [
      "[-2 -1  0  1  2]\n",
      "[-1.00894796  0.66660146  0.26290638  1.1733176   0.72112772]\n",
      "[-3.00894796 -0.33339854  0.26290638  2.1733176   2.72112772]\n",
      "[-0.99105204 -1.66660146 -0.26290638 -0.1733176   1.27887228]\n",
      "[ 2.01789593 -0.66660146  0.          1.1733176   1.44225544]\n",
      "[ 1.98226278 -1.50014673  0.          0.85228415  2.77343382]\n",
      "[-1.00894796  0.66660146  0.26290638  1.1733176   2.        ]\n"
     ]
    }
   ],
   "source": [
    "x = np.arange(-2,3)\n",
    "y = np.random.randn(5)\n",
    "print(x)\n",
    "print(y)\n",
    "\n",
    "print(np.add(x,y))\n",
    "print(np.subtract(x,y))\n",
    "print(np.multiply(x,y))\n",
    "print(np.divide(x,y))\n",
    "print(np.maximum(x,y))"
   ]
  },
  {
   "cell_type": "code",
   "execution_count": 27,
   "metadata": {},
   "outputs": [
    {
     "name": "stdout",
     "output_type": "stream",
     "text": [
      "[-3.2 -1.4  0.4  2.5  3.4]\n",
      "Min =  -3.2\n",
      "Max =  3.4\n",
      "Average =  0.34000000000000014\n",
      "Std deviation =  2.432776191925595\n",
      "Sum =  1.7000000000000006\n"
     ]
    }
   ],
   "source": [
    "y = np.array([-3.2,-1.4,0.4,2.5,3.4])\n",
    "print(y)\n",
    "\n",
    "print(\"Min = \",np.min(y))\n",
    "print(\"Max = \",np.max(y))\n",
    "print(\"Average = \",np.mean(y))\n",
    "print(\"Std deviation = \",np.std(y))\n",
    "print(\"Sum = \",np.sum(y))"
   ]
  },
  {
   "cell_type": "markdown",
   "metadata": {},
   "source": [
    "### 2.1.5 Numpy linear algebra"
   ]
  },
  {
   "cell_type": "code",
   "execution_count": 28,
   "metadata": {},
   "outputs": [
    {
     "name": "stdout",
     "output_type": "stream",
     "text": [
      "[[ 0.56283403 -1.28518197 -0.09376038]\n",
      " [-0.76436161 -0.55146719  0.0925479 ]]\n",
      "[[ 0.56283403 -0.76436161]\n",
      " [-1.28518197 -0.55146719]\n",
      " [-0.09376038  0.0925479 ]]\n",
      "[1.91837838 0.49842624 1.4810646 ]\n",
      "[ 0.30029504 -1.60413108]\n",
      "[[1.97726584 0.26984963]\n",
      " [0.26984963 0.89692985]]\n",
      "[[ 0.90103082 -0.30182379 -0.1235116 ]\n",
      " [-0.30182379  1.95580874  0.06946202]\n",
      " [-0.1235116   0.06946202  0.01735612]]\n"
     ]
    }
   ],
   "source": [
    "X = np.random.randn(2,3)\n",
    "print(X)\n",
    "print(X.T)\n",
    "\n",
    "y = np.random.randn(3)\n",
    "print(y)\n",
    "print(X.dot(y))\n",
    "print(X.dot(X.T))\n",
    "print(X.T.dot(X))"
   ]
  },
  {
   "cell_type": "code",
   "execution_count": 29,
   "metadata": {},
   "outputs": [
    {
     "name": "stdout",
     "output_type": "stream",
     "text": [
      "[[ 2.05559511 -0.69827946 -0.01025459]\n",
      " [ 1.07225513 -0.36938337 -1.907996  ]\n",
      " [-0.08787976  0.21957884  0.74214249]\n",
      " [-1.38754203  0.59686943  1.34062141]\n",
      " [-0.70952467  0.20663198 -0.03011604]]\n",
      "[[ 3.2915857   9.33440239 -0.41856748]\n",
      " [ 9.33440239 28.12044149 -1.64661518]\n",
      " [-0.41856748 -1.64661518  0.34825051]]\n",
      "[11.94776992  2.89264115  0.0319174 ]\n",
      "[[-0.7581541   0.57032275 -0.3161239 ]\n",
      " [ 0.28680917 -0.14372498 -0.94714499]\n",
      " [ 0.58561323  0.80874909  0.05460811]]\n"
     ]
    }
   ],
   "source": [
    "X = np.random.randn(5,3)\n",
    "print(X)\n",
    "\n",
    "C = X.T.dot(X)\n",
    "\n",
    "invC = np.linalg.inv(C) # 역행렬\n",
    "print(invC)\n",
    "detC = np. linalg.det(C) # 행렬식\n",
    "S, U = np.linalg.eig(C)  # 교유벡\n",
    "print(S)\n",
    "print(U)"
   ]
  },
  {
   "cell_type": "markdown",
   "metadata": {},
   "source": [
    "## 2.2 Introduction to Pandas\n",
    "### 2.2.1 Series"
   ]
  },
  {
   "cell_type": "code",
   "execution_count": 31,
   "metadata": {},
   "outputs": [
    {
     "name": "stdout",
     "output_type": "stream",
     "text": [
      "0    3.1\n",
      "1    2.4\n",
      "2   -1.7\n",
      "3    0.2\n",
      "4   -2.9\n",
      "5    4.5\n",
      "dtype: float64\n",
      "Values =  [ 3.1  2.4 -1.7  0.2 -2.9  4.5]\n",
      "Index =  RangeIndex(start=0, stop=6, step=1)\n"
     ]
    }
   ],
   "source": [
    "from pandas import Series\n",
    "\n",
    "s = Series([3.1,2.4,-1.7,0.2,-2.9,4.5])\n",
    "print(s)\n",
    "print('Values = ',s.values)\n",
    "print('Index = ',s.index)"
   ]
  },
  {
   "cell_type": "code",
   "execution_count": 32,
   "metadata": {},
   "outputs": [
    {
     "name": "stdout",
     "output_type": "stream",
     "text": [
      "0   -0.017974\n",
      "1    1.663380\n",
      "2    0.112378\n",
      "3    0.268164\n",
      "4    0.913711\n",
      "5   -1.386106\n",
      "dtype: float64\n",
      "Values =  [-0.01797387  1.66338032  0.11237776  0.26816444  0.91371087 -1.3861057 ]\n",
      "Index =  RangeIndex(start=0, stop=6, step=1)\n"
     ]
    }
   ],
   "source": [
    "import numpy as np\n",
    "\n",
    "s2 = Series(np.random.randn(6))\n",
    "print(s2)\n",
    "print('Values = ',s2.values )\n",
    "print('Index = ',s2.index)"
   ]
  },
  {
   "cell_type": "code",
   "execution_count": 33,
   "metadata": {},
   "outputs": [
    {
     "name": "stdout",
     "output_type": "stream",
     "text": [
      "Jan 1    1.2\n",
      "Jan 2    2.5\n",
      "Jan 3   -2.2\n",
      "Jan 4    3.1\n",
      "Jan 5   -0.8\n",
      "Jan 6   -3.2\n",
      "dtype: float64\n",
      "Values =  [ 1.2  2.5 -2.2  3.1 -0.8 -3.2]\n",
      "Index =  Index(['Jan 1', 'Jan 2', 'Jan 3', 'Jan 4', 'Jan 5', 'Jan 6'], dtype='object')\n"
     ]
    }
   ],
   "source": [
    "s3 = Series([1.2,2.5,-2.2,3.1,-0.8,-3.2],\n",
    "           index = ['Jan 1','Jan 2','Jan 3','Jan 4','Jan 5','Jan 6',])\n",
    "print(s3)\n",
    "print('Values = ',s3.values)\n",
    "print('Index = ',s3.index)"
   ]
  },
  {
   "cell_type": "code",
   "execution_count": 34,
   "metadata": {},
   "outputs": [
    {
     "name": "stdout",
     "output_type": "stream",
     "text": [
      "Ml       Lansing\n",
      "CA    Sacramento\n",
      "Tx        Austin\n",
      "MN       St Paul\n",
      "dtype: object\n",
      "Values =  ['Lansing' 'Sacramento' 'Austin' 'St Paul']\n",
      "Index =  Index(['Ml', 'CA', 'Tx', 'MN'], dtype='object')\n"
     ]
    }
   ],
   "source": [
    "capitals = {'Ml' : 'Lansing','CA' : 'Sacramento', 'Tx' :'Austin', 'MN' : 'St Paul'}\n",
    "\n",
    "s4=Series(capitals)\n",
    "print(s4)\n",
    "print('Values = ',s4.values)\n",
    "print('Index = ',s4.index)"
   ]
  },
  {
   "cell_type": "code",
   "execution_count": 35,
   "metadata": {},
   "outputs": [
    {
     "name": "stdout",
     "output_type": "stream",
     "text": [
      "Jan 1    1.2\n",
      "Jan 2    2.5\n",
      "Jan 3   -2.2\n",
      "Jan 4    3.1\n",
      "Jan 5   -0.8\n",
      "Jan 6   -3.2\n",
      "dtype: float64\n",
      "\n",
      "s3[2] =  -2.2\n",
      "s3['Jan 3'] =  -2.2\n",
      "\n",
      "s3[1:3] = \n",
      "Jan 2    2.5\n",
      "Jan 3   -2.2\n",
      "dtype: float64\n",
      "s3.iloc([1:3]) = \n",
      "Jan 2    2.5\n",
      "Jan 3   -2.2\n",
      "dtype: float64\n"
     ]
    }
   ],
   "source": [
    "s3 = Series([1.2,2.5,-2.2,3.1,-0.8,-3.2],\n",
    "           index = ['Jan 1','Jan 2','Jan 3','Jan 4','Jan 5','Jan 6',])\n",
    "print(s3)\n",
    "\n",
    "print('\\ns3[2] = ',s3[2])\n",
    "print('s3[\\'Jan 3\\'] = ',s3['Jan 3'])\n",
    "print('\\ns3[1:3] = ')\n",
    "print(s3[1:3])\n",
    "print('s3.iloc([1:3]) = ')\n",
    "print(s3.iloc[1:3])"
   ]
  },
  {
   "cell_type": "code",
   "execution_count": 36,
   "metadata": {},
   "outputs": [
    {
     "name": "stdout",
     "output_type": "stream",
     "text": [
      "shape =  (6,)\n",
      "size =  6\n"
     ]
    }
   ],
   "source": [
    "print('shape = ',s3.shape)\n",
    "print('size = ',s3.size)"
   ]
  },
  {
   "cell_type": "code",
   "execution_count": 37,
   "metadata": {},
   "outputs": [
    {
     "name": "stdout",
     "output_type": "stream",
     "text": [
      "Jan 1    1.2\n",
      "Jan 2    2.5\n",
      "Jan 4    3.1\n",
      "dtype: float64\n"
     ]
    }
   ],
   "source": [
    "print(s3[s3 > 0])"
   ]
  },
  {
   "cell_type": "code",
   "execution_count": 38,
   "metadata": {},
   "outputs": [
    {
     "name": "stdout",
     "output_type": "stream",
     "text": [
      "Jan 1    5.2\n",
      "Jan 2    6.5\n",
      "Jan 3    1.8\n",
      "Jan 4    7.1\n",
      "Jan 5    3.2\n",
      "Jan 6    0.8\n",
      "dtype: float64\n",
      "Jan 1    0.300\n",
      "Jan 2    0.625\n",
      "Jan 3   -0.550\n",
      "Jan 4    0.775\n",
      "Jan 5   -0.200\n",
      "Jan 6   -0.800\n",
      "dtype: float64\n"
     ]
    }
   ],
   "source": [
    "print(s3 + 4)\n",
    "print(s3 / 4)"
   ]
  },
  {
   "cell_type": "code",
   "execution_count": 39,
   "metadata": {},
   "outputs": [
    {
     "name": "stdout",
     "output_type": "stream",
     "text": [
      "Jan 1    1.648659\n",
      "Jan 2    1.871802\n",
      "Jan 3    0.587787\n",
      "Jan 4    1.960095\n",
      "Jan 5    1.163151\n",
      "Jan 6   -0.223144\n",
      "dtype: float64\n"
     ]
    }
   ],
   "source": [
    "print(np.log(s3+4))"
   ]
  },
  {
   "cell_type": "markdown",
   "metadata": {},
   "source": [
    "### 2.2.2 DataFrame"
   ]
  },
  {
   "cell_type": "code",
   "execution_count": 40,
   "metadata": {},
   "outputs": [
    {
     "data": {
      "text/html": [
       "<div>\n",
       "<style scoped>\n",
       "    .dataframe tbody tr th:only-of-type {\n",
       "        vertical-align: middle;\n",
       "    }\n",
       "\n",
       "    .dataframe tbody tr th {\n",
       "        vertical-align: top;\n",
       "    }\n",
       "\n",
       "    .dataframe thead th {\n",
       "        text-align: right;\n",
       "    }\n",
       "</style>\n",
       "<table border=\"1\" class=\"dataframe\">\n",
       "  <thead>\n",
       "    <tr style=\"text-align: right;\">\n",
       "      <th></th>\n",
       "      <th>make</th>\n",
       "      <th>model</th>\n",
       "      <th>MSRP</th>\n",
       "    </tr>\n",
       "  </thead>\n",
       "  <tbody>\n",
       "    <tr>\n",
       "      <td>0</td>\n",
       "      <td>Ford</td>\n",
       "      <td>Taurus</td>\n",
       "      <td>27595</td>\n",
       "    </tr>\n",
       "    <tr>\n",
       "      <td>1</td>\n",
       "      <td>Honda</td>\n",
       "      <td>Accord</td>\n",
       "      <td>23570</td>\n",
       "    </tr>\n",
       "    <tr>\n",
       "      <td>2</td>\n",
       "      <td>Toyota</td>\n",
       "      <td>Camry</td>\n",
       "      <td>23495</td>\n",
       "    </tr>\n",
       "    <tr>\n",
       "      <td>3</td>\n",
       "      <td>Tesla</td>\n",
       "      <td>Model S</td>\n",
       "      <td>68000</td>\n",
       "    </tr>\n",
       "  </tbody>\n",
       "</table>\n",
       "</div>"
      ],
      "text/plain": [
       "     make    model   MSRP\n",
       "0    Ford   Taurus  27595\n",
       "1   Honda   Accord  23570\n",
       "2  Toyota    Camry  23495\n",
       "3   Tesla  Model S  68000"
      ]
     },
     "execution_count": 40,
     "metadata": {},
     "output_type": "execute_result"
    }
   ],
   "source": [
    "from pandas import DataFrame\n",
    "\n",
    "cars={'make' : ['Ford','Honda','Toyota','Tesla'],\n",
    "     'model' : ['Taurus','Accord','Camry','Model S'],\n",
    "     'MSRP' : [27595,23570,23495,68000]}\n",
    "carData = DataFrame(cars)\n",
    "carData"
   ]
  },
  {
   "cell_type": "code",
   "execution_count": 41,
   "metadata": {},
   "outputs": [
    {
     "name": "stdout",
     "output_type": "stream",
     "text": [
      "RangeIndex(start=0, stop=4, step=1)\n",
      "Index(['make', 'model', 'MSRP'], dtype='object')\n"
     ]
    }
   ],
   "source": [
    "print(carData.index)\n",
    "print(carData.columns)"
   ]
  },
  {
   "cell_type": "code",
   "execution_count": 42,
   "metadata": {},
   "outputs": [
    {
     "data": {
      "text/html": [
       "<div>\n",
       "<style scoped>\n",
       "    .dataframe tbody tr th:only-of-type {\n",
       "        vertical-align: middle;\n",
       "    }\n",
       "\n",
       "    .dataframe tbody tr th {\n",
       "        vertical-align: top;\n",
       "    }\n",
       "\n",
       "    .dataframe thead th {\n",
       "        text-align: right;\n",
       "    }\n",
       "</style>\n",
       "<table border=\"1\" class=\"dataframe\">\n",
       "  <thead>\n",
       "    <tr style=\"text-align: right;\">\n",
       "      <th></th>\n",
       "      <th>make</th>\n",
       "      <th>model</th>\n",
       "      <th>MSRP</th>\n",
       "      <th>year</th>\n",
       "      <th>dealership</th>\n",
       "    </tr>\n",
       "  </thead>\n",
       "  <tbody>\n",
       "    <tr>\n",
       "      <td>1</td>\n",
       "      <td>Ford</td>\n",
       "      <td>Taurus</td>\n",
       "      <td>27595</td>\n",
       "      <td>2018</td>\n",
       "      <td>Courtesy Ford</td>\n",
       "    </tr>\n",
       "    <tr>\n",
       "      <td>2</td>\n",
       "      <td>Honda</td>\n",
       "      <td>Accord</td>\n",
       "      <td>23570</td>\n",
       "      <td>2018</td>\n",
       "      <td>Capital Honda</td>\n",
       "    </tr>\n",
       "    <tr>\n",
       "      <td>3</td>\n",
       "      <td>Toyota</td>\n",
       "      <td>Camry</td>\n",
       "      <td>23495</td>\n",
       "      <td>2018</td>\n",
       "      <td>Spartan Toyota</td>\n",
       "    </tr>\n",
       "    <tr>\n",
       "      <td>4</td>\n",
       "      <td>Tesla</td>\n",
       "      <td>Model S</td>\n",
       "      <td>68000</td>\n",
       "      <td>2018</td>\n",
       "      <td>N/A</td>\n",
       "    </tr>\n",
       "  </tbody>\n",
       "</table>\n",
       "</div>"
      ],
      "text/plain": [
       "     make    model   MSRP  year      dealership\n",
       "1    Ford   Taurus  27595  2018   Courtesy Ford\n",
       "2   Honda   Accord  23570  2018   Capital Honda\n",
       "3  Toyota    Camry  23495  2018  Spartan Toyota\n",
       "4   Tesla  Model S  68000  2018             N/A"
      ]
     },
     "execution_count": 42,
     "metadata": {},
     "output_type": "execute_result"
    }
   ],
   "source": [
    "carData2 =DataFrame(cars, index =[1,2,3,4])\n",
    "carData2['year']=2018\n",
    "carData2['dealership']=['Courtesy Ford','Capital Honda','Spartan Toyota','N/A']\n",
    "carData2"
   ]
  },
  {
   "cell_type": "code",
   "execution_count": 43,
   "metadata": {},
   "outputs": [
    {
     "data": {
      "text/html": [
       "<div>\n",
       "<style scoped>\n",
       "    .dataframe tbody tr th:only-of-type {\n",
       "        vertical-align: middle;\n",
       "    }\n",
       "\n",
       "    .dataframe tbody tr th {\n",
       "        vertical-align: top;\n",
       "    }\n",
       "\n",
       "    .dataframe thead th {\n",
       "        text-align: right;\n",
       "    }\n",
       "</style>\n",
       "<table border=\"1\" class=\"dataframe\">\n",
       "  <thead>\n",
       "    <tr style=\"text-align: right;\">\n",
       "      <th></th>\n",
       "      <th>year</th>\n",
       "      <th>temp</th>\n",
       "      <th>precip</th>\n",
       "    </tr>\n",
       "  </thead>\n",
       "  <tbody>\n",
       "    <tr>\n",
       "      <td>0</td>\n",
       "      <td>2011</td>\n",
       "      <td>45.1</td>\n",
       "      <td>32.4</td>\n",
       "    </tr>\n",
       "    <tr>\n",
       "      <td>1</td>\n",
       "      <td>2012</td>\n",
       "      <td>42.4</td>\n",
       "      <td>34.5</td>\n",
       "    </tr>\n",
       "    <tr>\n",
       "      <td>2</td>\n",
       "      <td>2013</td>\n",
       "      <td>47.2</td>\n",
       "      <td>39.2</td>\n",
       "    </tr>\n",
       "    <tr>\n",
       "      <td>3</td>\n",
       "      <td>2014</td>\n",
       "      <td>44.2</td>\n",
       "      <td>31.4</td>\n",
       "    </tr>\n",
       "    <tr>\n",
       "      <td>4</td>\n",
       "      <td>2015</td>\n",
       "      <td>39.9</td>\n",
       "      <td>29.8</td>\n",
       "    </tr>\n",
       "    <tr>\n",
       "      <td>5</td>\n",
       "      <td>2016</td>\n",
       "      <td>41.5</td>\n",
       "      <td>36.7</td>\n",
       "    </tr>\n",
       "  </tbody>\n",
       "</table>\n",
       "</div>"
      ],
      "text/plain": [
       "   year  temp  precip\n",
       "0  2011  45.1    32.4\n",
       "1  2012  42.4    34.5\n",
       "2  2013  47.2    39.2\n",
       "3  2014  44.2    31.4\n",
       "4  2015  39.9    29.8\n",
       "5  2016  41.5    36.7"
      ]
     },
     "execution_count": 43,
     "metadata": {},
     "output_type": "execute_result"
    }
   ],
   "source": [
    "tuplelist = [(2011,45.1,32.4),(2012,42.4,34.5),(2013,47.2,39.2),\n",
    "            (2014,44.2,31.4),(2015,39.9,29.8),(2016,41.5,36.7)]\n",
    "columnNames = ['year','temp','precip']\n",
    "weatherData = DataFrame(tuplelist,columns = columnNames)\n",
    "weatherData"
   ]
  },
  {
   "cell_type": "code",
   "execution_count": 44,
   "metadata": {},
   "outputs": [
    {
     "data": {
      "text/html": [
       "<div>\n",
       "<style scoped>\n",
       "    .dataframe tbody tr th:only-of-type {\n",
       "        vertical-align: middle;\n",
       "    }\n",
       "\n",
       "    .dataframe tbody tr th {\n",
       "        vertical-align: top;\n",
       "    }\n",
       "\n",
       "    .dataframe thead th {\n",
       "        text-align: right;\n",
       "    }\n",
       "</style>\n",
       "<table border=\"1\" class=\"dataframe\">\n",
       "  <thead>\n",
       "    <tr style=\"text-align: right;\">\n",
       "      <th></th>\n",
       "      <th>x1</th>\n",
       "      <th>x2</th>\n",
       "      <th>x3</th>\n",
       "    </tr>\n",
       "  </thead>\n",
       "  <tbody>\n",
       "    <tr>\n",
       "      <td>0</td>\n",
       "      <td>-0.083408</td>\n",
       "      <td>-0.288574</td>\n",
       "      <td>-0.881007</td>\n",
       "    </tr>\n",
       "    <tr>\n",
       "      <td>1</td>\n",
       "      <td>-0.856696</td>\n",
       "      <td>-1.760853</td>\n",
       "      <td>1.760165</td>\n",
       "    </tr>\n",
       "    <tr>\n",
       "      <td>2</td>\n",
       "      <td>-0.610222</td>\n",
       "      <td>-0.473110</td>\n",
       "      <td>-1.268223</td>\n",
       "    </tr>\n",
       "    <tr>\n",
       "      <td>3</td>\n",
       "      <td>1.017969</td>\n",
       "      <td>-0.634620</td>\n",
       "      <td>0.868157</td>\n",
       "    </tr>\n",
       "    <tr>\n",
       "      <td>4</td>\n",
       "      <td>-0.271907</td>\n",
       "      <td>1.254810</td>\n",
       "      <td>2.024699</td>\n",
       "    </tr>\n",
       "  </tbody>\n",
       "</table>\n",
       "</div>"
      ],
      "text/plain": [
       "         x1        x2        x3\n",
       "0 -0.083408 -0.288574 -0.881007\n",
       "1 -0.856696 -1.760853  1.760165\n",
       "2 -0.610222 -0.473110 -1.268223\n",
       "3  1.017969 -0.634620  0.868157\n",
       "4 -0.271907  1.254810  2.024699"
      ]
     },
     "execution_count": 44,
     "metadata": {},
     "output_type": "execute_result"
    }
   ],
   "source": [
    "import numpy as np\n",
    "\n",
    "npdata = np.random.randn(5,3)\n",
    "columnNames = ['x1','x2','x3']\n",
    "data = DataFrame(npdata, columns = columnNames)\n",
    "data"
   ]
  },
  {
   "cell_type": "code",
   "execution_count": 45,
   "metadata": {},
   "outputs": [
    {
     "name": "stdout",
     "output_type": "stream",
     "text": [
      "0   -0.288574\n",
      "1   -1.760853\n",
      "2   -0.473110\n",
      "3   -0.634620\n",
      "4    1.254810\n",
      "Name: x2, dtype: float64\n",
      "<class 'pandas.core.series.Series'>\n"
     ]
    }
   ],
   "source": [
    "print(data['x2'])\n",
    "print(type(data['x2']))"
   ]
  },
  {
   "cell_type": "code",
   "execution_count": 46,
   "metadata": {},
   "outputs": [
    {
     "name": "stdout",
     "output_type": "stream",
     "text": [
      "Row 3 of data table : \n",
      "x1   -0.610222\n",
      "x2   -0.473110\n",
      "x3   -1.268223\n",
      "Name: 2, dtype: float64\n",
      "<class 'pandas.core.series.Series'>\n",
      "\n",
      "Row 3 of car data table : \n",
      "make                  Toyota\n",
      "model                  Camry\n",
      "MSRP                   23495\n",
      "year                    2018\n",
      "dealership    Spartan Toyota\n",
      "Name: 3, dtype: object\n"
     ]
    }
   ],
   "source": [
    "print('Row 3 of data table : ')\n",
    "print(data.iloc[2])\n",
    "print(type(data.iloc[2]))\n",
    "print('\\nRow 3 of car data table : ')\n",
    "print(carData2.iloc[2])"
   ]
  },
  {
   "cell_type": "code",
   "execution_count": 50,
   "metadata": {},
   "outputs": [
    {
     "name": "stdout",
     "output_type": "stream",
     "text": [
      "23570\n",
      "Taurus\n",
      "carData2.iloc[1:3, 1:3] = \n",
      "    model   MSRP\n",
      "2  Accord  23570\n",
      "3   Camry  23495\n"
     ]
    }
   ],
   "source": [
    "print(carData2.iloc[1,2])\n",
    "print(carData2.loc[1,'model'])\n",
    "\n",
    "print('carData2.iloc[1:3, 1:3] = ')\n",
    "print(carData2.iloc[1:3,1:3])"
   ]
  },
  {
   "cell_type": "code",
   "execution_count": 52,
   "metadata": {},
   "outputs": [
    {
     "name": "stdout",
     "output_type": "stream",
     "text": [
      "carData2.shape =  (4, 5)\n",
      "carData2.size =  20\n"
     ]
    }
   ],
   "source": [
    "print('carData2.shape = ',carData2.shape)\n",
    "print('carData2.size = ',carData2.size)"
   ]
  },
  {
   "cell_type": "code",
   "execution_count": 53,
   "metadata": {},
   "outputs": [
    {
     "name": "stdout",
     "output_type": "stream",
     "text": [
      "carData2[carData2.MSRP > 25000]\n",
      "    make    model   MSRP  year     dealership\n",
      "1   Ford   Taurus  27595  2018  Courtesy Ford\n",
      "4  Tesla  Model S  68000  2018            N/A\n"
     ]
    }
   ],
   "source": [
    "print ('carData2[carData2.MSRP > 25000]')\n",
    "print(carData2[carData2.MSRP > 25000])"
   ]
  },
  {
   "cell_type": "markdown",
   "metadata": {},
   "source": [
    "### 2.2.3 Arithmetic Operations"
   ]
  },
  {
   "cell_type": "code",
   "execution_count": 56,
   "metadata": {},
   "outputs": [
    {
     "name": "stdout",
     "output_type": "stream",
     "text": [
      "         x1        x2        x3\n",
      "0 -0.083408 -0.288574 -0.881007\n",
      "1 -0.856696 -1.760853  1.760165\n",
      "2 -0.610222 -0.473110 -1.268223\n",
      "3  1.017969 -0.634620  0.868157\n",
      "4 -0.271907  1.254810  2.024699\n",
      "\n",
      "Data transpose operation : \n",
      "           0         1         2         3         4\n",
      "x1 -0.083408 -0.856696 -0.610222  1.017969 -0.271907\n",
      "x2 -0.288574 -1.760853 -0.473110 -0.634620  1.254810\n",
      "x3 -0.881007  1.760165 -1.268223  0.868157  2.024699\n",
      "\n",
      "Addition : \n",
      "         x1        x2        x3\n",
      "0  3.916592  3.711426  3.118993\n",
      "1  3.143304  2.239147  5.760165\n",
      "2  3.389778  3.526890  2.731777\n",
      "3  5.017969  3.365380  4.868157\n",
      "4  3.728093  5.254810  6.024699\n",
      "\n",
      "Multiplication : \n",
      "          x1         x2         x3\n",
      "0  -0.834081  -2.885736  -8.810072\n",
      "1  -8.566959 -17.608527  17.601653\n",
      "2  -6.102220  -4.731102 -12.682226\n",
      "3  10.179687  -6.346197   8.681570\n",
      "4  -2.719075  12.548099  20.246986\n"
     ]
    }
   ],
   "source": [
    "print(data)\n",
    "\n",
    "print('\\nData transpose operation : ')\n",
    "print(data.T) #transpose\n",
    "\n",
    "print('\\nAddition : ')\n",
    "print(data + 4)\n",
    "\n",
    "print('\\nMultiplication : ')\n",
    "print(data * 10)"
   ]
  },
  {
   "cell_type": "code",
   "execution_count": 57,
   "metadata": {},
   "outputs": [
    {
     "name": "stdout",
     "output_type": "stream",
     "text": [
      "data = \n",
      "         x1        x2        x3\n",
      "0 -0.083408 -0.288574 -0.881007\n",
      "1 -0.856696 -1.760853  1.760165\n",
      "2 -0.610222 -0.473110 -1.268223\n",
      "3  1.017969 -0.634620  0.868157\n",
      "4 -0.271907  1.254810  2.024699\n",
      "\n",
      "data2 = \n",
      "         x1        x2        x3\n",
      "0 -0.462847 -1.661223 -1.607062\n",
      "1  0.513543 -1.378243 -0.192417\n",
      "2 -1.259525  0.057541 -0.024802\n",
      "3 -0.125968 -0.418178  1.393183\n",
      "4 -0.937292  0.041729  1.027017\n",
      "\n",
      "data + data2 = \n",
      "         x1        x2        x3\n",
      "0 -0.546255 -1.949796 -2.488069\n",
      "1 -0.343153 -3.139096  1.567749\n",
      "2 -1.869747 -0.415569 -1.293024\n",
      "3  0.892000 -1.052797  2.261340\n",
      "4 -1.209200  1.296539  3.051715\n",
      "\n",
      "data * data2 = \n",
      "         x1        x2        x3\n",
      "0  0.038605  0.479385  1.415833\n",
      "1 -0.439950  2.426884 -0.338685\n",
      "2  0.768590 -0.027223  0.031454\n",
      "3 -0.128232  0.265384  1.209502\n",
      "4  0.254857  0.052362  2.079399\n"
     ]
    }
   ],
   "source": [
    "print('data = ')\n",
    "print(data)\n",
    "\n",
    "columnsNames = ['x1','x2','x3']\n",
    "data2 = DataFrame(np.random.randn(5,3),columns=columnNames)\n",
    "print('\\ndata2 = ')\n",
    "print(data2)\n",
    "\n",
    "print('\\ndata + data2 = ')\n",
    "print(data.add(data2))\n",
    "\n",
    "print('\\ndata * data2 = ')\n",
    "print(data.mul(data2))"
   ]
  },
  {
   "cell_type": "code",
   "execution_count": 58,
   "metadata": {},
   "outputs": [
    {
     "name": "stdout",
     "output_type": "stream",
     "text": [
      "         x1        x2        x3\n",
      "0  0.083408  0.288574  0.881007\n",
      "1  0.856696  1.760853  1.760165\n",
      "2  0.610222  0.473110  1.268223\n",
      "3  1.017969  0.634620  0.868157\n",
      "4  0.271907  1.254810  2.024699\n",
      "\n",
      "Maximum value per column : \n",
      "x1    1.017969\n",
      "x2    1.254810\n",
      "x3    2.024699\n",
      "dtype: float64\n",
      "\n",
      "Minimum value per row : \n",
      "0   -0.881007\n",
      "1   -1.760853\n",
      "2   -1.268223\n",
      "3   -0.634620\n",
      "4   -0.271907\n",
      "dtype: float64\n",
      "\n",
      "Sum of values per column\n",
      "x1   -0.804265\n",
      "x2   -1.902346\n",
      "x3    2.503791\n",
      "dtype: float64\n",
      "\n",
      "Average value per row : \n",
      "0   -0.417663\n",
      "1   -0.285794\n",
      "2   -0.783852\n",
      "3    0.417169\n",
      "4    1.002534\n",
      "dtype: float64\n",
      "\n",
      "Calculate max - min per column\n",
      "x1    1.874665\n",
      "x2    3.015663\n",
      "x3    3.292921\n",
      "dtype: float64\n",
      "\n",
      "Calculate max - min per row\n",
      "0    0.797599\n",
      "1    3.521018\n",
      "2    0.795112\n",
      "3    1.652588\n",
      "4    2.296606\n",
      "dtype: float64\n"
     ]
    }
   ],
   "source": [
    "print (data.abs())\n",
    "\n",
    "print('\\nMaximum value per column : ')\n",
    "print(data.max())\n",
    "\n",
    "print('\\nMinimum value per row : ')\n",
    "print(data.min(axis =1 ))\n",
    "\n",
    "print('\\nSum of values per column')\n",
    "print(data.sum())\n",
    "\n",
    "print('\\nAverage value per row : ')\n",
    "print(data.mean(axis = 1))\n",
    "\n",
    "print('\\nCalculate max - min per column')\n",
    "f=lambda x : x.max() - x.min()\n",
    "print (data .apply(f))\n",
    "\n",
    "print('\\nCalculate max - min per row')\n",
    "f = lambda x : x.max() - x.min()\n",
    "print(data.apply(f, axis=1))"
   ]
  },
  {
   "cell_type": "markdown",
   "metadata": {},
   "source": [
    "### 2.2.4 Plotting Series and DataFrame"
   ]
  },
  {
   "cell_type": "code",
   "execution_count": 59,
   "metadata": {},
   "outputs": [
    {
     "data": {
      "text/plain": [
       "<matplotlib.axes._subplots.AxesSubplot at 0x117d08190>"
      ]
     },
     "execution_count": 59,
     "metadata": {},
     "output_type": "execute_result"
    },
    {
     "data": {
      "image/png": "[encoded data removed]",
      "text/plain": [
       "<Figure size 432x288 with 1 Axes>"
      ]
     },
     "metadata": {
      "needs_background": "light"
     },
     "output_type": "display_data"
    }
   ],
   "source": [
    "%matplotlib inline\n",
    "s3 = Series([1.2,2.5,-2.2,3.1,-0.8,-3.2,1.4],\n",
    "           index = ['Jan 1','Jan 2','Jan 3','Jan 4','Jan 5','Jan 6','Jan 7'])\n",
    "s3.plot(kind ='line',title='Line plot')"
   ]
  },
  {
   "cell_type": "code",
   "execution_count": 60,
   "metadata": {},
   "outputs": [
    {
     "data": {
      "text/plain": [
       "<matplotlib.axes._subplots.AxesSubplot at 0x117c793d0>"
      ]
     },
     "execution_count": 60,
     "metadata": {},
     "output_type": "execute_result"
    },
    {
     "data": {
      "image/png": "[encoded data removed]",
      "text/plain": [
       "<Figure size 432x288 with 1 Axes>"
      ]
     },
     "metadata": {
      "needs_background": "light"
     },
     "output_type": "display_data"
    }
   ],
   "source": [
    "s3.plot(kind='bar',title ='Bar plot')"
   ]
  },
  {
   "cell_type": "code",
   "execution_count": 61,
   "metadata": {},
   "outputs": [
    {
     "data": {
      "text/plain": [
       "<matplotlib.axes._subplots.AxesSubplot at 0x1184bc950>"
      ]
     },
     "execution_count": 61,
     "metadata": {},
     "output_type": "execute_result"
    },
    {
     "data": {
      "image/png": "[encoded data removed]",
      "text/plain": [
       "<Figure size 432x288 with 1 Axes>"
      ]
     },
     "metadata": {
      "needs_background": "light"
     },
     "output_type": "display_data"
    }
   ],
   "source": [
    "s3. plot(kind='hist',title ='Histogram')"
   ]
  },
  {
   "cell_type": "code",
   "execution_count": 66,
   "metadata": {},
   "outputs": [
    {
     "data": {
      "text/plain": [
       "<matplotlib.axes._subplots.AxesSubplot at 0x11870ed50>"
      ]
     },
     "execution_count": 66,
     "metadata": {},
     "output_type": "execute_result"
    },
    {
     "data": {
      "image/png": "[encoded data removed]",
      "text/plain": [
       "<Figure size 432x288 with 1 Axes>"
      ]
     },
     "metadata": {
      "needs_background": "light"
     },
     "output_type": "display_data"
    }
   ],
   "source": [
    "tuplelist = [(2011,45.1,32.4),(2012,42.4,34.5),(2013,47.2,39.2), \n",
    "             (2014,44.2,31.4),(2015,39.9,29.8),(2016,41.5,36.7)] \n",
    "columnNames = ['year','temp','precip'] \n",
    "weatherData = DataFrame(tuplelist, columns=columnNames) \n",
    "weatherData[['temp','precip']].plot(kind='box', title='Box plot')"
   ]
  },
  {
   "cell_type": "code",
   "execution_count": null,
   "metadata": {},
   "outputs": [],
   "source": []
  }
 ],
 "metadata": {
  "kernelspec": {
   "display_name": "Python 3",
   "language": "python",
   "name": "python3"
  },
  "language_info": {
   "codemirror_mode": {
    "name": "ipython",
    "version": 3
   },
   "file_extension": ".py",
   "mimetype": "text/x-python",
   "name": "python",
   "nbconvert_exporter": "python",
   "pygments_lexer": "ipython3",
   "version": "3.7.4"
  }
 },
 "nbformat": 4,
 "nbformat_minor": 2
}
